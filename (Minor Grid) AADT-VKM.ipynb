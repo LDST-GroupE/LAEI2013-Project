{
 "cells": [
  {
   "cell_type": "markdown",
   "id": "1faca14c",
   "metadata": {},
   "source": [
    "# AADt-VKM (Minor Grid)"
   ]
  },
  {
   "cell_type": "code",
   "execution_count": 1,
   "id": "cb53988a",
   "metadata": {},
   "outputs": [],
   "source": [
    "import os\n",
    "import seaborn\n",
    "import pandas as pd"
   ]
  },
  {
   "cell_type": "markdown",
   "id": "5aa9b7de",
   "metadata": {},
   "source": [
    "### Section 1: Opening File"
   ]
  },
  {
   "cell_type": "code",
   "execution_count": 2,
   "id": "1b3ef0e5",
   "metadata": {},
   "outputs": [
    {
     "data": {
      "text/html": [
       "<div>\n",
       "<style scoped>\n",
       "    .dataframe tbody tr th:only-of-type {\n",
       "        vertical-align: middle;\n",
       "    }\n",
       "\n",
       "    .dataframe tbody tr th {\n",
       "        vertical-align: top;\n",
       "    }\n",
       "\n",
       "    .dataframe thead th {\n",
       "        text-align: right;\n",
       "    }\n",
       "</style>\n",
       "<table border=\"1\" class=\"dataframe\">\n",
       "  <thead>\n",
       "    <tr style=\"text-align: right;\">\n",
       "      <th></th>\n",
       "      <th>Year</th>\n",
       "      <th>ID</th>\n",
       "      <th>GRID_ExactCut_ID</th>\n",
       "      <th>Location_ExactCut</th>\n",
       "      <th>BoroughName_ExactCut</th>\n",
       "      <th>Easting</th>\n",
       "      <th>Northing</th>\n",
       "      <th>speed (kph)</th>\n",
       "      <th>VKM_Motorcycle</th>\n",
       "      <th>VKM_Taxi</th>\n",
       "      <th>...</th>\n",
       "      <th>VKM_Coach</th>\n",
       "      <th>VKM_Rigid</th>\n",
       "      <th>VKM_Artic</th>\n",
       "      <th>VKM_Petrolcar</th>\n",
       "      <th>VKM_Dieselcar</th>\n",
       "      <th>VKM_Electriccar</th>\n",
       "      <th>VKM_Petrollgv</th>\n",
       "      <th>VKM_Diesellgv</th>\n",
       "      <th>VKM_Electriclgv</th>\n",
       "      <th>VKM_Total</th>\n",
       "    </tr>\n",
       "  </thead>\n",
       "  <tbody>\n",
       "    <tr>\n",
       "      <th>0</th>\n",
       "      <td>2013</td>\n",
       "      <td>5910</td>\n",
       "      <td>1</td>\n",
       "      <td>External</td>\n",
       "      <td>NonGLA</td>\n",
       "      <td>510500</td>\n",
       "      <td>203500</td>\n",
       "      <td>30</td>\n",
       "      <td>7223.168225</td>\n",
       "      <td>3303.116745</td>\n",
       "      <td>...</td>\n",
       "      <td>4513.072361</td>\n",
       "      <td>7680.054517</td>\n",
       "      <td>853.427764</td>\n",
       "      <td>309599.517097</td>\n",
       "      <td>183701.922502</td>\n",
       "      <td>164.155952</td>\n",
       "      <td>1083.285552</td>\n",
       "      <td>54429.435225</td>\n",
       "      <td>31.158503</td>\n",
       "      <td>572582.314443</td>\n",
       "    </tr>\n",
       "    <tr>\n",
       "      <th>1</th>\n",
       "      <td>2013</td>\n",
       "      <td>5911</td>\n",
       "      <td>2</td>\n",
       "      <td>External</td>\n",
       "      <td>NonGLA</td>\n",
       "      <td>511500</td>\n",
       "      <td>203500</td>\n",
       "      <td>30</td>\n",
       "      <td>4742.141375</td>\n",
       "      <td>2167.935313</td>\n",
       "      <td>...</td>\n",
       "      <td>2962.995481</td>\n",
       "      <td>5041.590112</td>\n",
       "      <td>559.699517</td>\n",
       "      <td>203270.767843</td>\n",
       "      <td>120611.398853</td>\n",
       "      <td>107.778290</td>\n",
       "      <td>711.243897</td>\n",
       "      <td>35736.287198</td>\n",
       "      <td>20.457482</td>\n",
       "      <td>375932.295360</td>\n",
       "    </tr>\n",
       "    <tr>\n",
       "      <th>2</th>\n",
       "      <td>2013</td>\n",
       "      <td>5912</td>\n",
       "      <td>3</td>\n",
       "      <td>External</td>\n",
       "      <td>NonGLA</td>\n",
       "      <td>512500</td>\n",
       "      <td>203500</td>\n",
       "      <td>30</td>\n",
       "      <td>7278.285529</td>\n",
       "      <td>3327.995491</td>\n",
       "      <td>...</td>\n",
       "      <td>4548.852095</td>\n",
       "      <td>7740.195812</td>\n",
       "      <td>860.663552</td>\n",
       "      <td>312015.145930</td>\n",
       "      <td>185135.244055</td>\n",
       "      <td>165.436767</td>\n",
       "      <td>1091.752757</td>\n",
       "      <td>54854.868005</td>\n",
       "      <td>31.402045</td>\n",
       "      <td>577049.842037</td>\n",
       "    </tr>\n",
       "    <tr>\n",
       "      <th>3</th>\n",
       "      <td>2013</td>\n",
       "      <td>5915</td>\n",
       "      <td>4</td>\n",
       "      <td>External</td>\n",
       "      <td>NonGLA</td>\n",
       "      <td>515500</td>\n",
       "      <td>203500</td>\n",
       "      <td>30</td>\n",
       "      <td>7204.224780</td>\n",
       "      <td>3294.143071</td>\n",
       "      <td>...</td>\n",
       "      <td>4499.043482</td>\n",
       "      <td>7654.621079</td>\n",
       "      <td>847.495192</td>\n",
       "      <td>308578.002296</td>\n",
       "      <td>183095.803234</td>\n",
       "      <td>163.614324</td>\n",
       "      <td>1079.683190</td>\n",
       "      <td>54248.435380</td>\n",
       "      <td>31.054888</td>\n",
       "      <td>570696.120915</td>\n",
       "    </tr>\n",
       "    <tr>\n",
       "      <th>4</th>\n",
       "      <td>2013</td>\n",
       "      <td>5916</td>\n",
       "      <td>5</td>\n",
       "      <td>External</td>\n",
       "      <td>NonGLA</td>\n",
       "      <td>516500</td>\n",
       "      <td>203500</td>\n",
       "      <td>30</td>\n",
       "      <td>6499.471249</td>\n",
       "      <td>2972.477278</td>\n",
       "      <td>...</td>\n",
       "      <td>4057.870123</td>\n",
       "      <td>6911.448474</td>\n",
       "      <td>766.513286</td>\n",
       "      <td>278614.894550</td>\n",
       "      <td>165317.091727</td>\n",
       "      <td>147.727276</td>\n",
       "      <td>974.893390</td>\n",
       "      <td>48983.295782</td>\n",
       "      <td>28.040823</td>\n",
       "      <td>515273.723959</td>\n",
       "    </tr>\n",
       "  </tbody>\n",
       "</table>\n",
       "<p>5 rows × 21 columns</p>\n",
       "</div>"
      ],
      "text/plain": [
       "   Year    ID  GRID_ExactCut_ID Location_ExactCut BoroughName_ExactCut  \\\n",
       "0  2013  5910                 1          External               NonGLA   \n",
       "1  2013  5911                 2          External               NonGLA   \n",
       "2  2013  5912                 3          External               NonGLA   \n",
       "3  2013  5915                 4          External               NonGLA   \n",
       "4  2013  5916                 5          External               NonGLA   \n",
       "\n",
       "   Easting  Northing  speed (kph)  VKM_Motorcycle     VKM_Taxi  ...  \\\n",
       "0   510500    203500           30     7223.168225  3303.116745  ...   \n",
       "1   511500    203500           30     4742.141375  2167.935313  ...   \n",
       "2   512500    203500           30     7278.285529  3327.995491  ...   \n",
       "3   515500    203500           30     7204.224780  3294.143071  ...   \n",
       "4   516500    203500           30     6499.471249  2972.477278  ...   \n",
       "\n",
       "     VKM_Coach    VKM_Rigid   VKM_Artic  VKM_Petrolcar  VKM_Dieselcar  \\\n",
       "0  4513.072361  7680.054517  853.427764  309599.517097  183701.922502   \n",
       "1  2962.995481  5041.590112  559.699517  203270.767843  120611.398853   \n",
       "2  4548.852095  7740.195812  860.663552  312015.145930  185135.244055   \n",
       "3  4499.043482  7654.621079  847.495192  308578.002296  183095.803234   \n",
       "4  4057.870123  6911.448474  766.513286  278614.894550  165317.091727   \n",
       "\n",
       "   VKM_Electriccar  VKM_Petrollgv  VKM_Diesellgv  VKM_Electriclgv  \\\n",
       "0       164.155952    1083.285552   54429.435225        31.158503   \n",
       "1       107.778290     711.243897   35736.287198        20.457482   \n",
       "2       165.436767    1091.752757   54854.868005        31.402045   \n",
       "3       163.614324    1079.683190   54248.435380        31.054888   \n",
       "4       147.727276     974.893390   48983.295782        28.040823   \n",
       "\n",
       "       VKM_Total  \n",
       "0  572582.314443  \n",
       "1  375932.295360  \n",
       "2  577049.842037  \n",
       "3  570696.120915  \n",
       "4  515273.723959  \n",
       "\n",
       "[5 rows x 21 columns]"
      ]
     },
     "execution_count": 2,
     "metadata": {},
     "output_type": "execute_result"
    }
   ],
   "source": [
    "PATH = \"c:\\Documents\"\n",
    "File1=\"LAEI2013_2013_AADT-VKM.xlsx\"\n",
    "\n",
    "df1= pd.read_excel(os.path.join(PATH, File1),sheet_name='MinorGrid_VKM_2013')               \n",
    "df1.head(5)"
   ]
  },
  {
   "cell_type": "code",
   "execution_count": 3,
   "id": "8d0a203a",
   "metadata": {},
   "outputs": [
    {
     "data": {
      "text/plain": [
       "(3355, 21)"
      ]
     },
     "execution_count": 3,
     "metadata": {},
     "output_type": "execute_result"
    }
   ],
   "source": [
    "#Check df1 dataset shape\n",
    "df1.shape"
   ]
  },
  {
   "cell_type": "code",
   "execution_count": 4,
   "id": "b54a582f",
   "metadata": {},
   "outputs": [
    {
     "data": {
      "text/plain": [
       "Year                      int64\n",
       "ID                        int64\n",
       "GRID_ExactCut_ID          int64\n",
       "Location_ExactCut        object\n",
       "BoroughName_ExactCut     object\n",
       "Easting                   int64\n",
       "Northing                  int64\n",
       "speed (kph)               int64\n",
       "VKM_Motorcycle          float64\n",
       "VKM_Taxi                float64\n",
       "VKM_Bus                 float64\n",
       "VKM_Coach               float64\n",
       "VKM_Rigid               float64\n",
       "VKM_Artic               float64\n",
       "VKM_Petrolcar           float64\n",
       "VKM_Dieselcar           float64\n",
       "VKM_Electriccar         float64\n",
       "VKM_Petrollgv           float64\n",
       "VKM_Diesellgv           float64\n",
       "VKM_Electriclgv         float64\n",
       "VKM_Total               float64\n",
       "dtype: object"
      ]
     },
     "execution_count": 4,
     "metadata": {},
     "output_type": "execute_result"
    }
   ],
   "source": [
    "#Check df1 data type\n",
    "df1.dtypes"
   ]
  },
  {
   "cell_type": "markdown",
   "id": "3537ab69",
   "metadata": {},
   "source": [
    "### Section 2: Data Tidy - Column naming¶"
   ]
  },
  {
   "cell_type": "code",
   "execution_count": 5,
   "id": "82f13655",
   "metadata": {},
   "outputs": [
    {
     "data": {
      "text/plain": [
       "Index(['Year', 'ID', 'GRID_ExactCut_ID', 'Location_ExactCut',\n",
       "       'BoroughName_ExactCut', 'Easting', 'Northing', 'speed (kph)',\n",
       "       'VKM_Motorcycle', 'VKM_Taxi', 'VKM_Bus', 'VKM_Coach', 'VKM_Rigid',\n",
       "       'VKM_Artic', 'VKM_Petrolcar', 'VKM_Dieselcar', 'VKM_Electriccar',\n",
       "       'VKM_Petrollgv', 'VKM_Diesellgv', 'VKM_Electriclgv', 'VKM_Total'],\n",
       "      dtype='object')"
      ]
     },
     "execution_count": 5,
     "metadata": {},
     "output_type": "execute_result"
    }
   ],
   "source": [
    "#Check column name\n",
    "df1.columns"
   ]
  },
  {
   "cell_type": "code",
   "execution_count": 6,
   "id": "36b529ff",
   "metadata": {},
   "outputs": [
    {
     "data": {
      "text/plain": [
       "Index(['Year', 'ID', 'GRID_ExactCut_ID', 'Location_ExactCut',\n",
       "       'BoroughName_ExactCut', 'Easting', 'Northing', 'Speed(kph)',\n",
       "       'VKM_Motorcycle', 'VKM_Taxi', 'VKM_Bus', 'VKM_Coach', 'VKM_Rigid',\n",
       "       'VKM_Artic', 'VKM_Petrolcar', 'VKM_Dieselcar', 'VKM_Electriccar',\n",
       "       'VKM_Petrollgv', 'VKM_Diesellgv', 'VKM_Electriclgv', 'VKM_Total'],\n",
       "      dtype='object')"
      ]
     },
     "execution_count": 6,
     "metadata": {},
     "output_type": "execute_result"
    }
   ],
   "source": [
    "# renaming columns\n",
    "df1=df1.rename(columns={\n",
    "     'speed (kph)':'Speed(kph)'\n",
    "})\n",
    "    \n",
    "df1.columns     "
   ]
  },
  {
   "cell_type": "markdown",
   "id": "d80efc0f",
   "metadata": {},
   "source": [
    "### Section 3: Splitting Data into Zone"
   ]
  },
  {
   "cell_type": "code",
   "execution_count": 7,
   "id": "52bfa8df",
   "metadata": {},
   "outputs": [],
   "source": [
    "# Zone: Outer\n",
    "df2 = df1.loc[df1['Location_ExactCut'] == \"Outer\"]\n",
    "# Zone: External\n",
    "df3= df1.loc[df1['Location_ExactCut']== \"External\"]\n",
    "# Zone: Inner\n",
    "df4= df1.loc[df1['Location_ExactCut']== \"Inner\"]\n",
    "# Zone: Central \n",
    "df5= df1.loc[df1['Location_ExactCut']== \"Central\"]"
   ]
  },
  {
   "cell_type": "markdown",
   "id": "a5848ff0",
   "metadata": {},
   "source": [
    "### Section 4: Check and handling abnormal data"
   ]
  },
  {
   "cell_type": "markdown",
   "id": "23c17f6b",
   "metadata": {},
   "source": [
    "##### Check for object "
   ]
  },
  {
   "cell_type": "code",
   "execution_count": 8,
   "id": "3ff4bb02",
   "metadata": {
    "scrolled": true
   },
   "outputs": [
    {
     "data": {
      "text/html": [
       "<div>\n",
       "<style scoped>\n",
       "    .dataframe tbody tr th:only-of-type {\n",
       "        vertical-align: middle;\n",
       "    }\n",
       "\n",
       "    .dataframe tbody tr th {\n",
       "        vertical-align: top;\n",
       "    }\n",
       "\n",
       "    .dataframe thead th {\n",
       "        text-align: right;\n",
       "    }\n",
       "</style>\n",
       "<table border=\"1\" class=\"dataframe\">\n",
       "  <thead>\n",
       "    <tr style=\"text-align: right;\">\n",
       "      <th></th>\n",
       "      <th>Location_ExactCut</th>\n",
       "      <th>BoroughName_ExactCut</th>\n",
       "    </tr>\n",
       "  </thead>\n",
       "  <tbody>\n",
       "    <tr>\n",
       "      <th>count</th>\n",
       "      <td>3355</td>\n",
       "      <td>3355</td>\n",
       "    </tr>\n",
       "    <tr>\n",
       "      <th>unique</th>\n",
       "      <td>4</td>\n",
       "      <td>34</td>\n",
       "    </tr>\n",
       "    <tr>\n",
       "      <th>top</th>\n",
       "      <td>Outer</td>\n",
       "      <td>NonGLA</td>\n",
       "    </tr>\n",
       "    <tr>\n",
       "      <th>freq</th>\n",
       "      <td>1766</td>\n",
       "      <td>1010</td>\n",
       "    </tr>\n",
       "  </tbody>\n",
       "</table>\n",
       "</div>"
      ],
      "text/plain": [
       "       Location_ExactCut BoroughName_ExactCut\n",
       "count               3355                 3355\n",
       "unique                 4                   34\n",
       "top                Outer               NonGLA\n",
       "freq                1766                 1010"
      ]
     },
     "execution_count": 8,
     "metadata": {},
     "output_type": "execute_result"
    }
   ],
   "source": [
    "df1.describe(include='O')"
   ]
  },
  {
   "cell_type": "code",
   "execution_count": 9,
   "id": "1baedf60",
   "metadata": {},
   "outputs": [
    {
     "data": {
      "text/html": [
       "<div>\n",
       "<style scoped>\n",
       "    .dataframe tbody tr th:only-of-type {\n",
       "        vertical-align: middle;\n",
       "    }\n",
       "\n",
       "    .dataframe tbody tr th {\n",
       "        vertical-align: top;\n",
       "    }\n",
       "\n",
       "    .dataframe thead th {\n",
       "        text-align: right;\n",
       "    }\n",
       "</style>\n",
       "<table border=\"1\" class=\"dataframe\">\n",
       "  <thead>\n",
       "    <tr style=\"text-align: right;\">\n",
       "      <th></th>\n",
       "      <th>Year</th>\n",
       "      <th>ID</th>\n",
       "      <th>GRID_ExactCut_ID</th>\n",
       "      <th>Easting</th>\n",
       "      <th>Northing</th>\n",
       "      <th>Speed(kph)</th>\n",
       "      <th>VKM_Motorcycle</th>\n",
       "      <th>VKM_Taxi</th>\n",
       "      <th>VKM_Bus</th>\n",
       "      <th>VKM_Coach</th>\n",
       "      <th>VKM_Rigid</th>\n",
       "      <th>VKM_Artic</th>\n",
       "      <th>VKM_Petrolcar</th>\n",
       "      <th>VKM_Dieselcar</th>\n",
       "      <th>VKM_Electriccar</th>\n",
       "      <th>VKM_Petrollgv</th>\n",
       "      <th>VKM_Diesellgv</th>\n",
       "      <th>VKM_Electriclgv</th>\n",
       "      <th>VKM_Total</th>\n",
       "    </tr>\n",
       "  </thead>\n",
       "  <tbody>\n",
       "    <tr>\n",
       "      <th>count</th>\n",
       "      <td>3355.0</td>\n",
       "      <td>3355.000000</td>\n",
       "      <td>3355.000000</td>\n",
       "      <td>3355.000000</td>\n",
       "      <td>3355.000000</td>\n",
       "      <td>3355.00000</td>\n",
       "      <td>3355.000000</td>\n",
       "      <td>3355.000000</td>\n",
       "      <td>3.355000e+03</td>\n",
       "      <td>3355.000000</td>\n",
       "      <td>3355.000000</td>\n",
       "      <td>3355.000000</td>\n",
       "      <td>3.355000e+03</td>\n",
       "      <td>3.355000e+03</td>\n",
       "      <td>3355.000000</td>\n",
       "      <td>3355.000000</td>\n",
       "      <td>3355.000000</td>\n",
       "      <td>3355.000000</td>\n",
       "      <td>3.355000e+03</td>\n",
       "    </tr>\n",
       "    <tr>\n",
       "      <th>mean</th>\n",
       "      <td>2013.0</td>\n",
       "      <td>10171.481073</td>\n",
       "      <td>1678.000000</td>\n",
       "      <td>529707.451565</td>\n",
       "      <td>178835.618480</td>\n",
       "      <td>28.93234</td>\n",
       "      <td>24268.334489</td>\n",
       "      <td>15743.834205</td>\n",
       "      <td>1.579291e+04</td>\n",
       "      <td>6907.519757</td>\n",
       "      <td>21607.891433</td>\n",
       "      <td>2395.633890</td>\n",
       "      <td>7.595515e+05</td>\n",
       "      <td>4.506824e+05</td>\n",
       "      <td>402.729624</td>\n",
       "      <td>2857.274427</td>\n",
       "      <td>143563.101211</td>\n",
       "      <td>82.183680</td>\n",
       "      <td>1.443855e+06</td>\n",
       "    </tr>\n",
       "    <tr>\n",
       "      <th>std</th>\n",
       "      <td>0.0</td>\n",
       "      <td>2159.850074</td>\n",
       "      <td>968.649403</td>\n",
       "      <td>14688.878533</td>\n",
       "      <td>12556.159991</td>\n",
       "      <td>2.52664</td>\n",
       "      <td>31679.697563</td>\n",
       "      <td>36121.710430</td>\n",
       "      <td>5.019600e+04</td>\n",
       "      <td>9235.614347</td>\n",
       "      <td>21630.650740</td>\n",
       "      <td>2391.880815</td>\n",
       "      <td>6.898642e+05</td>\n",
       "      <td>4.093333e+05</td>\n",
       "      <td>365.780018</td>\n",
       "      <td>2683.751660</td>\n",
       "      <td>134844.489369</td>\n",
       "      <td>77.192651</td>\n",
       "      <td>1.315523e+06</td>\n",
       "    </tr>\n",
       "    <tr>\n",
       "      <th>min</th>\n",
       "      <td>2013.0</td>\n",
       "      <td>5910.000000</td>\n",
       "      <td>1.000000</td>\n",
       "      <td>501500.000000</td>\n",
       "      <td>152500.000000</td>\n",
       "      <td>18.00000</td>\n",
       "      <td>0.000000</td>\n",
       "      <td>0.000000</td>\n",
       "      <td>0.000000e+00</td>\n",
       "      <td>0.000000</td>\n",
       "      <td>0.000000</td>\n",
       "      <td>0.000000</td>\n",
       "      <td>0.000000e+00</td>\n",
       "      <td>0.000000e+00</td>\n",
       "      <td>0.000000</td>\n",
       "      <td>0.000000</td>\n",
       "      <td>0.000000</td>\n",
       "      <td>0.000000</td>\n",
       "      <td>0.000000e+00</td>\n",
       "    </tr>\n",
       "    <tr>\n",
       "      <th>25%</th>\n",
       "      <td>2013.0</td>\n",
       "      <td>8487.500000</td>\n",
       "      <td>839.500000</td>\n",
       "      <td>517500.000000</td>\n",
       "      <td>169500.000000</td>\n",
       "      <td>30.00000</td>\n",
       "      <td>3928.713612</td>\n",
       "      <td>1884.331457</td>\n",
       "      <td>0.000000e+00</td>\n",
       "      <td>0.000000</td>\n",
       "      <td>4011.128048</td>\n",
       "      <td>445.558430</td>\n",
       "      <td>1.544532e+05</td>\n",
       "      <td>9.164531e+04</td>\n",
       "      <td>81.894210</td>\n",
       "      <td>560.205215</td>\n",
       "      <td>28147.383128</td>\n",
       "      <td>16.113162</td>\n",
       "      <td>2.912316e+05</td>\n",
       "    </tr>\n",
       "    <tr>\n",
       "      <th>50%</th>\n",
       "      <td>2013.0</td>\n",
       "      <td>10059.000000</td>\n",
       "      <td>1678.000000</td>\n",
       "      <td>529500.000000</td>\n",
       "      <td>179500.000000</td>\n",
       "      <td>30.00000</td>\n",
       "      <td>14380.646045</td>\n",
       "      <td>6887.264684</td>\n",
       "      <td>2.499144e+00</td>\n",
       "      <td>3031.316868</td>\n",
       "      <td>14639.216023</td>\n",
       "      <td>1624.210420</td>\n",
       "      <td>5.473559e+05</td>\n",
       "      <td>3.247755e+05</td>\n",
       "      <td>290.219214</td>\n",
       "      <td>2011.442660</td>\n",
       "      <td>101064.477189</td>\n",
       "      <td>57.855052</td>\n",
       "      <td>1.032572e+06</td>\n",
       "    </tr>\n",
       "    <tr>\n",
       "      <th>75%</th>\n",
       "      <td>2013.0</td>\n",
       "      <td>11797.000000</td>\n",
       "      <td>2516.500000</td>\n",
       "      <td>541500.000000</td>\n",
       "      <td>188500.000000</td>\n",
       "      <td>30.00000</td>\n",
       "      <td>33785.048736</td>\n",
       "      <td>16223.996597</td>\n",
       "      <td>9.637558e+03</td>\n",
       "      <td>10547.113086</td>\n",
       "      <td>34593.831345</td>\n",
       "      <td>3835.171927</td>\n",
       "      <td>1.300713e+06</td>\n",
       "      <td>7.717828e+05</td>\n",
       "      <td>689.664712</td>\n",
       "      <td>4742.600577</td>\n",
       "      <td>238290.883108</td>\n",
       "      <td>136.411247</td>\n",
       "      <td>2.466122e+06</td>\n",
       "    </tr>\n",
       "    <tr>\n",
       "      <th>max</th>\n",
       "      <td>2013.0</td>\n",
       "      <td>14708.000000</td>\n",
       "      <td>3355.000000</td>\n",
       "      <td>561500.000000</td>\n",
       "      <td>203500.000000</td>\n",
       "      <td>30.00000</td>\n",
       "      <td>382974.126037</td>\n",
       "      <td>589656.664318</td>\n",
       "      <td>1.065518e+06</td>\n",
       "      <td>65861.271712</td>\n",
       "      <td>163324.319827</td>\n",
       "      <td>17864.255012</td>\n",
       "      <td>3.768312e+06</td>\n",
       "      <td>2.235941e+06</td>\n",
       "      <td>1998.035529</td>\n",
       "      <td>13318.312369</td>\n",
       "      <td>669175.564050</td>\n",
       "      <td>383.074131</td>\n",
       "      <td>7.022360e+06</td>\n",
       "    </tr>\n",
       "  </tbody>\n",
       "</table>\n",
       "</div>"
      ],
      "text/plain": [
       "         Year            ID  GRID_ExactCut_ID        Easting       Northing  \\\n",
       "count  3355.0   3355.000000       3355.000000    3355.000000    3355.000000   \n",
       "mean   2013.0  10171.481073       1678.000000  529707.451565  178835.618480   \n",
       "std       0.0   2159.850074        968.649403   14688.878533   12556.159991   \n",
       "min    2013.0   5910.000000          1.000000  501500.000000  152500.000000   \n",
       "25%    2013.0   8487.500000        839.500000  517500.000000  169500.000000   \n",
       "50%    2013.0  10059.000000       1678.000000  529500.000000  179500.000000   \n",
       "75%    2013.0  11797.000000       2516.500000  541500.000000  188500.000000   \n",
       "max    2013.0  14708.000000       3355.000000  561500.000000  203500.000000   \n",
       "\n",
       "       Speed(kph)  VKM_Motorcycle       VKM_Taxi       VKM_Bus     VKM_Coach  \\\n",
       "count  3355.00000     3355.000000    3355.000000  3.355000e+03   3355.000000   \n",
       "mean     28.93234    24268.334489   15743.834205  1.579291e+04   6907.519757   \n",
       "std       2.52664    31679.697563   36121.710430  5.019600e+04   9235.614347   \n",
       "min      18.00000        0.000000       0.000000  0.000000e+00      0.000000   \n",
       "25%      30.00000     3928.713612    1884.331457  0.000000e+00      0.000000   \n",
       "50%      30.00000    14380.646045    6887.264684  2.499144e+00   3031.316868   \n",
       "75%      30.00000    33785.048736   16223.996597  9.637558e+03  10547.113086   \n",
       "max      30.00000   382974.126037  589656.664318  1.065518e+06  65861.271712   \n",
       "\n",
       "           VKM_Rigid     VKM_Artic  VKM_Petrolcar  VKM_Dieselcar  \\\n",
       "count    3355.000000   3355.000000   3.355000e+03   3.355000e+03   \n",
       "mean    21607.891433   2395.633890   7.595515e+05   4.506824e+05   \n",
       "std     21630.650740   2391.880815   6.898642e+05   4.093333e+05   \n",
       "min         0.000000      0.000000   0.000000e+00   0.000000e+00   \n",
       "25%      4011.128048    445.558430   1.544532e+05   9.164531e+04   \n",
       "50%     14639.216023   1624.210420   5.473559e+05   3.247755e+05   \n",
       "75%     34593.831345   3835.171927   1.300713e+06   7.717828e+05   \n",
       "max    163324.319827  17864.255012   3.768312e+06   2.235941e+06   \n",
       "\n",
       "       VKM_Electriccar  VKM_Petrollgv  VKM_Diesellgv  VKM_Electriclgv  \\\n",
       "count      3355.000000    3355.000000    3355.000000      3355.000000   \n",
       "mean        402.729624    2857.274427  143563.101211        82.183680   \n",
       "std         365.780018    2683.751660  134844.489369        77.192651   \n",
       "min           0.000000       0.000000       0.000000         0.000000   \n",
       "25%          81.894210     560.205215   28147.383128        16.113162   \n",
       "50%         290.219214    2011.442660  101064.477189        57.855052   \n",
       "75%         689.664712    4742.600577  238290.883108       136.411247   \n",
       "max        1998.035529   13318.312369  669175.564050       383.074131   \n",
       "\n",
       "          VKM_Total  \n",
       "count  3.355000e+03  \n",
       "mean   1.443855e+06  \n",
       "std    1.315523e+06  \n",
       "min    0.000000e+00  \n",
       "25%    2.912316e+05  \n",
       "50%    1.032572e+06  \n",
       "75%    2.466122e+06  \n",
       "max    7.022360e+06  "
      ]
     },
     "execution_count": 9,
     "metadata": {},
     "output_type": "execute_result"
    }
   ],
   "source": [
    "df1.describe()"
   ]
  },
  {
   "cell_type": "code",
   "execution_count": 10,
   "id": "8c0a320f",
   "metadata": {},
   "outputs": [
    {
     "data": {
      "text/plain": [
       "Year                    0\n",
       "ID                      0\n",
       "GRID_ExactCut_ID        0\n",
       "Location_ExactCut       0\n",
       "BoroughName_ExactCut    0\n",
       "Easting                 0\n",
       "Northing                0\n",
       "Speed(kph)              0\n",
       "VKM_Motorcycle          0\n",
       "VKM_Taxi                0\n",
       "VKM_Bus                 0\n",
       "VKM_Coach               0\n",
       "VKM_Rigid               0\n",
       "VKM_Artic               0\n",
       "VKM_Petrolcar           0\n",
       "VKM_Dieselcar           0\n",
       "VKM_Electriccar         0\n",
       "VKM_Petrollgv           0\n",
       "VKM_Diesellgv           0\n",
       "VKM_Electriclgv         0\n",
       "VKM_Total               0\n",
       "dtype: int64"
      ]
     },
     "execution_count": 10,
     "metadata": {},
     "output_type": "execute_result"
    }
   ],
   "source": [
    "df2.isnull().sum()"
   ]
  },
  {
   "cell_type": "markdown",
   "id": "9cfe9964",
   "metadata": {},
   "source": [
    "##### Check for missing values"
   ]
  },
  {
   "cell_type": "code",
   "execution_count": 11,
   "id": "bdee7f17",
   "metadata": {},
   "outputs": [
    {
     "data": {
      "text/plain": [
       "Year                    0\n",
       "ID                      0\n",
       "GRID_ExactCut_ID        0\n",
       "Location_ExactCut       0\n",
       "BoroughName_ExactCut    0\n",
       "Easting                 0\n",
       "Northing                0\n",
       "Speed(kph)              0\n",
       "VKM_Motorcycle          0\n",
       "VKM_Taxi                0\n",
       "VKM_Bus                 0\n",
       "VKM_Coach               0\n",
       "VKM_Rigid               0\n",
       "VKM_Artic               0\n",
       "VKM_Petrolcar           0\n",
       "VKM_Dieselcar           0\n",
       "VKM_Electriccar         0\n",
       "VKM_Petrollgv           0\n",
       "VKM_Diesellgv           0\n",
       "VKM_Electriclgv         0\n",
       "VKM_Total               0\n",
       "dtype: int64"
      ]
     },
     "execution_count": 11,
     "metadata": {},
     "output_type": "execute_result"
    }
   ],
   "source": [
    "df3.isnull().sum()"
   ]
  },
  {
   "cell_type": "code",
   "execution_count": 12,
   "id": "8e466e2c",
   "metadata": {},
   "outputs": [
    {
     "data": {
      "text/plain": [
       "Year                    0\n",
       "ID                      0\n",
       "GRID_ExactCut_ID        0\n",
       "Location_ExactCut       0\n",
       "BoroughName_ExactCut    0\n",
       "Easting                 0\n",
       "Northing                0\n",
       "Speed(kph)              0\n",
       "VKM_Motorcycle          0\n",
       "VKM_Taxi                0\n",
       "VKM_Bus                 0\n",
       "VKM_Coach               0\n",
       "VKM_Rigid               0\n",
       "VKM_Artic               0\n",
       "VKM_Petrolcar           0\n",
       "VKM_Dieselcar           0\n",
       "VKM_Electriccar         0\n",
       "VKM_Petrollgv           0\n",
       "VKM_Diesellgv           0\n",
       "VKM_Electriclgv         0\n",
       "VKM_Total               0\n",
       "dtype: int64"
      ]
     },
     "execution_count": 12,
     "metadata": {},
     "output_type": "execute_result"
    }
   ],
   "source": [
    "df3.isnull().sum()"
   ]
  },
  {
   "cell_type": "code",
   "execution_count": 13,
   "id": "adae1203",
   "metadata": {
    "scrolled": true
   },
   "outputs": [
    {
     "data": {
      "text/plain": [
       "Year                    0\n",
       "ID                      0\n",
       "GRID_ExactCut_ID        0\n",
       "Location_ExactCut       0\n",
       "BoroughName_ExactCut    0\n",
       "Easting                 0\n",
       "Northing                0\n",
       "Speed(kph)              0\n",
       "VKM_Motorcycle          0\n",
       "VKM_Taxi                0\n",
       "VKM_Bus                 0\n",
       "VKM_Coach               0\n",
       "VKM_Rigid               0\n",
       "VKM_Artic               0\n",
       "VKM_Petrolcar           0\n",
       "VKM_Dieselcar           0\n",
       "VKM_Electriccar         0\n",
       "VKM_Petrollgv           0\n",
       "VKM_Diesellgv           0\n",
       "VKM_Electriclgv         0\n",
       "VKM_Total               0\n",
       "dtype: int64"
      ]
     },
     "execution_count": 13,
     "metadata": {},
     "output_type": "execute_result"
    }
   ],
   "source": [
    "df5.isnull().sum()"
   ]
  },
  {
   "cell_type": "markdown",
   "id": "190df746",
   "metadata": {},
   "source": [
    "##### Fill missing values or Zero with mean"
   ]
  },
  {
   "cell_type": "code",
   "execution_count": 14,
   "id": "be98980f",
   "metadata": {},
   "outputs": [],
   "source": [
    "# Replacing Zero values with mean Outer region\n",
    "dfn7= df2.iloc[:,8:]\n",
    "dfn8= dfn7.mean(axis=0, skipna=True)\n",
    "dfn9=df2.replace(0,dfn8)\n",
    "df2=dfn9\n",
    "\n",
    "# Replacing missing values with mean External region\n",
    "dfn10= df3.iloc[:,8:]\n",
    "dfn11= dfn10.mean(axis=0, skipna=True)\n",
    "dfn12=df3.replace(0,dfn11)\n",
    "df3=dfn12\n",
    "\n",
    "# Replacing missing values with mean Inner region\n",
    "dfn13= df4.iloc[:,8:]\n",
    "dfn14= dfn13.mean(axis=0, skipna=True)\n",
    "dfn15=df4.replace(0,dfn14)\n",
    "df4=dfn15\n",
    "\n",
    "# Replacing missing values with mean Central region\n",
    "dfn16= df5.iloc[:,8:]\n",
    "dfn17= dfn16.mean(axis=0, skipna=True)\n",
    "dfn18=df5.replace(0,dfn17)\n",
    "df5=dfn18"
   ]
  },
  {
   "cell_type": "markdown",
   "id": "925fa1fb",
   "metadata": {},
   "source": [
    "##### check for correlation"
   ]
  },
  {
   "cell_type": "code",
   "execution_count": 15,
   "id": "fda6b162",
   "metadata": {
    "scrolled": true
   },
   "outputs": [
    {
     "data": {
      "text/plain": [
       "<AxesSubplot:>"
      ]
     },
     "execution_count": 15,
     "metadata": {},
     "output_type": "execute_result"
    },
    {
     "data": {
      "image/png": "[encoded data removed]",
      "text/plain": [
       "<Figure size 640x480 with 2 Axes>"
      ]
     },
     "metadata": {},
     "output_type": "display_data"
    }
   ],
   "source": [
    "#Check correlation performance - df2\n",
    "data=pd.DataFrame(df2.iloc[:,8:])\n",
    "data1=data.corr()\n",
    "seaborn.heatmap(data1)"
   ]
  },
  {
   "cell_type": "code",
   "execution_count": 16,
   "id": "9c1d23e0",
   "metadata": {},
   "outputs": [],
   "source": [
    "# Drop those parameters with correlation of greater than 0.90\n",
    "df2.drop(\"VKM_Electriclgv\", axis=1, inplace=True)\n",
    "df2.drop(\"VKM_Diesellgv\", axis=1, inplace=True)\n",
    "df2.drop(\"VKM_Petrollgv\", axis=1, inplace=True)\n",
    "df2.drop(\"VKM_Electriccar\", axis=1, inplace=True)\n",
    "df2.drop(\"VKM_Dieselcar\", axis=1, inplace=True)\n",
    "df2.drop(\"VKM_Petrolcar\", axis=1, inplace=True)\n",
    "df2.drop(\"VKM_Artic\", axis=1, inplace=True)\n",
    "df2.drop(\"VKM_Rigid\", axis=1, inplace=True)"
   ]
  },
  {
   "cell_type": "code",
   "execution_count": 17,
   "id": "cfb64202",
   "metadata": {
    "scrolled": true
   },
   "outputs": [
    {
     "data": {
      "text/plain": [
       "<AxesSubplot:>"
      ]
     },
     "execution_count": 17,
     "metadata": {},
     "output_type": "execute_result"
    },
    {
     "data": {
      "image/png": "[encoded data removed]",
      "text/plain": [
       "<Figure size 640x480 with 2 Axes>"
      ]
     },
     "metadata": {},
     "output_type": "display_data"
    }
   ],
   "source": [
    "#Check correlation performance - df3\n",
    "data=pd.DataFrame(df3.iloc[:,8:])\n",
    "data1=data.corr()\n",
    "seaborn.heatmap(data1)"
   ]
  },
  {
   "cell_type": "code",
   "execution_count": 18,
   "id": "4c558470",
   "metadata": {},
   "outputs": [],
   "source": [
    "# Drop those parameters with correlation of greater than 0.90\n",
    "df3.drop(\"VKM_Electriclgv\", axis=1, inplace=True)\n",
    "df3.drop(\"VKM_Diesellgv\", axis=1, inplace=True)\n",
    "df3.drop(\"VKM_Petrollgv\", axis=1, inplace=True)\n",
    "df3.drop(\"VKM_Electriccar\", axis=1, inplace=True)\n",
    "df3.drop(\"VKM_Dieselcar\", axis=1, inplace=True)\n",
    "df3.drop(\"VKM_Petrolcar\", axis=1, inplace=True)\n",
    "df3.drop(\"VKM_Artic\", axis=1, inplace=True)\n",
    "df3.drop(\"VKM_Rigid\", axis=1, inplace=True)"
   ]
  },
  {
   "cell_type": "code",
   "execution_count": 19,
   "id": "e62a47f7",
   "metadata": {
    "scrolled": true
   },
   "outputs": [
    {
     "data": {
      "text/plain": [
       "<AxesSubplot:>"
      ]
     },
     "execution_count": 19,
     "metadata": {},
     "output_type": "execute_result"
    },
    {
     "data": {
      "image/png": "[encoded data removed]",
      "text/plain": [
       "<Figure size 640x480 with 2 Axes>"
      ]
     },
     "metadata": {},
     "output_type": "display_data"
    }
   ],
   "source": [
    "#Check correlation performance - df4\n",
    "data=pd.DataFrame(df4.iloc[:,8:])\n",
    "data1=data.corr()\n",
    "seaborn.heatmap(data1)"
   ]
  },
  {
   "cell_type": "code",
   "execution_count": 20,
   "id": "a081296d",
   "metadata": {},
   "outputs": [],
   "source": [
    "# Drop those parameters with correlation of greater than 0.90\n",
    "df4.drop(\"VKM_Electriclgv\", axis=1, inplace=True)\n",
    "df4.drop(\"VKM_Diesellgv\", axis=1, inplace=True)\n",
    "df4.drop(\"VKM_Petrollgv\", axis=1, inplace=True)\n",
    "df4.drop(\"VKM_Electriccar\", axis=1, inplace=True)\n",
    "df4.drop(\"VKM_Dieselcar\", axis=1, inplace=True)\n",
    "df4.drop(\"VKM_Petrolcar\", axis=1, inplace=True)\n",
    "df4.drop(\"VKM_Artic\", axis=1, inplace=True)\n",
    "df4.drop(\"VKM_Rigid\", axis=1, inplace=True)"
   ]
  },
  {
   "cell_type": "code",
   "execution_count": 21,
   "id": "6dc82576",
   "metadata": {},
   "outputs": [
    {
     "data": {
      "text/plain": [
       "<AxesSubplot:>"
      ]
     },
     "execution_count": 21,
     "metadata": {},
     "output_type": "execute_result"
    },
    {
     "data": {
      "image/png": "[encoded data removed]",
      "text/plain": [
       "<Figure size 640x480 with 2 Axes>"
      ]
     },
     "metadata": {},
     "output_type": "display_data"
    }
   ],
   "source": [
    "#Check correlation performance - df4\n",
    "data=pd.DataFrame(df5.iloc[:,8:])\n",
    "data1=data.corr()\n",
    "seaborn.heatmap(data1)"
   ]
  },
  {
   "cell_type": "code",
   "execution_count": 22,
   "id": "d830eaa8",
   "metadata": {},
   "outputs": [],
   "source": [
    "# Drop those parameters with correlation of greater than 0.90\n",
    "df5.drop(\"VKM_Electriclgv\", axis=1, inplace=True)\n",
    "df5.drop(\"VKM_Diesellgv\", axis=1, inplace=True)\n",
    "df5.drop(\"VKM_Petrollgv\", axis=1, inplace=True)\n",
    "df5.drop(\"VKM_Electriccar\", axis=1, inplace=True)\n",
    "df5.drop(\"VKM_Dieselcar\", axis=1, inplace=True)\n",
    "df5.drop(\"VKM_Petrolcar\", axis=1, inplace=True)\n",
    "df5.drop(\"VKM_Artic\", axis=1, inplace=True)\n",
    "df5.drop(\"VKM_Rigid\", axis=1, inplace=True)"
   ]
  },
  {
   "cell_type": "code",
   "execution_count": 23,
   "id": "6952c34c",
   "metadata": {},
   "outputs": [
    {
     "data": {
      "text/html": [
       "<div>\n",
       "<style scoped>\n",
       "    .dataframe tbody tr th:only-of-type {\n",
       "        vertical-align: middle;\n",
       "    }\n",
       "\n",
       "    .dataframe tbody tr th {\n",
       "        vertical-align: top;\n",
       "    }\n",
       "\n",
       "    .dataframe thead th {\n",
       "        text-align: right;\n",
       "    }\n",
       "</style>\n",
       "<table border=\"1\" class=\"dataframe\">\n",
       "  <thead>\n",
       "    <tr style=\"text-align: right;\">\n",
       "      <th></th>\n",
       "      <th>Year</th>\n",
       "      <th>ID</th>\n",
       "      <th>GRID_ExactCut_ID</th>\n",
       "      <th>Location_ExactCut</th>\n",
       "      <th>BoroughName_ExactCut</th>\n",
       "      <th>Easting</th>\n",
       "      <th>Northing</th>\n",
       "      <th>Speed(kph)</th>\n",
       "      <th>VKM_Motorcycle</th>\n",
       "      <th>VKM_Taxi</th>\n",
       "      <th>VKM_Bus</th>\n",
       "      <th>VKM_Coach</th>\n",
       "      <th>VKM_Total</th>\n",
       "    </tr>\n",
       "  </thead>\n",
       "  <tbody>\n",
       "    <tr>\n",
       "      <th>521</th>\n",
       "      <td>2013</td>\n",
       "      <td>6443</td>\n",
       "      <td>522</td>\n",
       "      <td>Outer</td>\n",
       "      <td>Enfield</td>\n",
       "      <td>527500</td>\n",
       "      <td>200500</td>\n",
       "      <td>30</td>\n",
       "      <td>834.643653</td>\n",
       "      <td>381.774603</td>\n",
       "      <td>0.089167</td>\n",
       "      <td>524.900721</td>\n",
       "      <td>6.614825e+04</td>\n",
       "    </tr>\n",
       "    <tr>\n",
       "      <th>523</th>\n",
       "      <td>2013</td>\n",
       "      <td>6445</td>\n",
       "      <td>524</td>\n",
       "      <td>Outer</td>\n",
       "      <td>Enfield</td>\n",
       "      <td>529500</td>\n",
       "      <td>200500</td>\n",
       "      <td>30</td>\n",
       "      <td>20616.997830</td>\n",
       "      <td>9704.423814</td>\n",
       "      <td>20302.887376</td>\n",
       "      <td>6577.296565</td>\n",
       "      <td>1.640235e+06</td>\n",
       "    </tr>\n",
       "    <tr>\n",
       "      <th>525</th>\n",
       "      <td>2013</td>\n",
       "      <td>6447</td>\n",
       "      <td>526</td>\n",
       "      <td>Outer</td>\n",
       "      <td>Enfield</td>\n",
       "      <td>531500</td>\n",
       "      <td>200500</td>\n",
       "      <td>30</td>\n",
       "      <td>7378.477412</td>\n",
       "      <td>3372.957737</td>\n",
       "      <td>20302.887376</td>\n",
       "      <td>4643.829021</td>\n",
       "      <td>5.849084e+05</td>\n",
       "    </tr>\n",
       "    <tr>\n",
       "      <th>527</th>\n",
       "      <td>2013</td>\n",
       "      <td>6449</td>\n",
       "      <td>528</td>\n",
       "      <td>Outer</td>\n",
       "      <td>Enfield</td>\n",
       "      <td>533500</td>\n",
       "      <td>200500</td>\n",
       "      <td>30</td>\n",
       "      <td>20616.997830</td>\n",
       "      <td>9704.423814</td>\n",
       "      <td>20302.887376</td>\n",
       "      <td>6577.296565</td>\n",
       "      <td>1.640235e+06</td>\n",
       "    </tr>\n",
       "    <tr>\n",
       "      <th>529</th>\n",
       "      <td>2013</td>\n",
       "      <td>6451</td>\n",
       "      <td>530</td>\n",
       "      <td>Outer</td>\n",
       "      <td>Enfield</td>\n",
       "      <td>535500</td>\n",
       "      <td>200500</td>\n",
       "      <td>30</td>\n",
       "      <td>730.074853</td>\n",
       "      <td>333.787878</td>\n",
       "      <td>20302.887376</td>\n",
       "      <td>459.488604</td>\n",
       "      <td>5.787427e+04</td>\n",
       "    </tr>\n",
       "    <tr>\n",
       "      <th>...</th>\n",
       "      <td>...</td>\n",
       "      <td>...</td>\n",
       "      <td>...</td>\n",
       "      <td>...</td>\n",
       "      <td>...</td>\n",
       "      <td>...</td>\n",
       "      <td>...</td>\n",
       "      <td>...</td>\n",
       "      <td>...</td>\n",
       "      <td>...</td>\n",
       "      <td>...</td>\n",
       "      <td>...</td>\n",
       "      <td>...</td>\n",
       "    </tr>\n",
       "    <tr>\n",
       "      <th>3349</th>\n",
       "      <td>2013</td>\n",
       "      <td>9717</td>\n",
       "      <td>3350</td>\n",
       "      <td>Central</td>\n",
       "      <td>Hackney</td>\n",
       "      <td>533500</td>\n",
       "      <td>181500</td>\n",
       "      <td>18</td>\n",
       "      <td>8996.649909</td>\n",
       "      <td>14166.027954</td>\n",
       "      <td>19940.739874</td>\n",
       "      <td>1613.225666</td>\n",
       "      <td>1.107430e+05</td>\n",
       "    </tr>\n",
       "    <tr>\n",
       "      <th>3351</th>\n",
       "      <td>2013</td>\n",
       "      <td>10059</td>\n",
       "      <td>3352</td>\n",
       "      <td>Central</td>\n",
       "      <td>Southwark</td>\n",
       "      <td>531500</td>\n",
       "      <td>179500</td>\n",
       "      <td>18</td>\n",
       "      <td>181781.970555</td>\n",
       "      <td>279884.791227</td>\n",
       "      <td>6917.368346</td>\n",
       "      <td>23780.302227</td>\n",
       "      <td>2.199204e+06</td>\n",
       "    </tr>\n",
       "    <tr>\n",
       "      <th>3352</th>\n",
       "      <td>2013</td>\n",
       "      <td>9714</td>\n",
       "      <td>3353</td>\n",
       "      <td>Central</td>\n",
       "      <td>Camden</td>\n",
       "      <td>530500</td>\n",
       "      <td>181500</td>\n",
       "      <td>18</td>\n",
       "      <td>265377.375688</td>\n",
       "      <td>408595.152746</td>\n",
       "      <td>96183.663942</td>\n",
       "      <td>9308.431693</td>\n",
       "      <td>3.261916e+06</td>\n",
       "    </tr>\n",
       "    <tr>\n",
       "      <th>3353</th>\n",
       "      <td>2013</td>\n",
       "      <td>9716</td>\n",
       "      <td>3354</td>\n",
       "      <td>Central</td>\n",
       "      <td>Islington</td>\n",
       "      <td>532500</td>\n",
       "      <td>181500</td>\n",
       "      <td>18</td>\n",
       "      <td>17718.926363</td>\n",
       "      <td>27281.478382</td>\n",
       "      <td>29547.453009</td>\n",
       "      <td>9308.431693</td>\n",
       "      <td>2.409200e+05</td>\n",
       "    </tr>\n",
       "    <tr>\n",
       "      <th>3354</th>\n",
       "      <td>2013</td>\n",
       "      <td>9716</td>\n",
       "      <td>3355</td>\n",
       "      <td>Central</td>\n",
       "      <td>City</td>\n",
       "      <td>532500</td>\n",
       "      <td>181500</td>\n",
       "      <td>18</td>\n",
       "      <td>226909.814858</td>\n",
       "      <td>349368.527290</td>\n",
       "      <td>4112.333119</td>\n",
       "      <td>34205.621204</td>\n",
       "      <td>2.745170e+06</td>\n",
       "    </tr>\n",
       "  </tbody>\n",
       "</table>\n",
       "<p>3355 rows × 13 columns</p>\n",
       "</div>"
      ],
      "text/plain": [
       "      Year     ID  GRID_ExactCut_ID Location_ExactCut BoroughName_ExactCut  \\\n",
       "521   2013   6443               522             Outer              Enfield   \n",
       "523   2013   6445               524             Outer              Enfield   \n",
       "525   2013   6447               526             Outer              Enfield   \n",
       "527   2013   6449               528             Outer              Enfield   \n",
       "529   2013   6451               530             Outer              Enfield   \n",
       "...    ...    ...               ...               ...                  ...   \n",
       "3349  2013   9717              3350           Central              Hackney   \n",
       "3351  2013  10059              3352           Central            Southwark   \n",
       "3352  2013   9714              3353           Central               Camden   \n",
       "3353  2013   9716              3354           Central            Islington   \n",
       "3354  2013   9716              3355           Central                 City   \n",
       "\n",
       "      Easting  Northing  Speed(kph)  VKM_Motorcycle       VKM_Taxi  \\\n",
       "521    527500    200500          30      834.643653     381.774603   \n",
       "523    529500    200500          30    20616.997830    9704.423814   \n",
       "525    531500    200500          30     7378.477412    3372.957737   \n",
       "527    533500    200500          30    20616.997830    9704.423814   \n",
       "529    535500    200500          30      730.074853     333.787878   \n",
       "...       ...       ...         ...             ...            ...   \n",
       "3349   533500    181500          18     8996.649909   14166.027954   \n",
       "3351   531500    179500          18   181781.970555  279884.791227   \n",
       "3352   530500    181500          18   265377.375688  408595.152746   \n",
       "3353   532500    181500          18    17718.926363   27281.478382   \n",
       "3354   532500    181500          18   226909.814858  349368.527290   \n",
       "\n",
       "           VKM_Bus     VKM_Coach     VKM_Total  \n",
       "521       0.089167    524.900721  6.614825e+04  \n",
       "523   20302.887376   6577.296565  1.640235e+06  \n",
       "525   20302.887376   4643.829021  5.849084e+05  \n",
       "527   20302.887376   6577.296565  1.640235e+06  \n",
       "529   20302.887376    459.488604  5.787427e+04  \n",
       "...            ...           ...           ...  \n",
       "3349  19940.739874   1613.225666  1.107430e+05  \n",
       "3351   6917.368346  23780.302227  2.199204e+06  \n",
       "3352  96183.663942   9308.431693  3.261916e+06  \n",
       "3353  29547.453009   9308.431693  2.409200e+05  \n",
       "3354   4112.333119  34205.621204  2.745170e+06  \n",
       "\n",
       "[3355 rows x 13 columns]"
      ]
     },
     "execution_count": 23,
     "metadata": {},
     "output_type": "execute_result"
    }
   ],
   "source": [
    "df1=pd.concat([df2,df3,df4,df5],axis=0)\n",
    "df1"
   ]
  },
  {
   "cell_type": "code",
   "execution_count": 24,
   "id": "38030940",
   "metadata": {},
   "outputs": [],
   "source": [
    "PATH = \"c:\\Documents\"\n",
    "OUTPUT_FILE=\"MinorAADT-VKM.xlsx\"\n",
    "\n",
    "FILE_EXIST = os.path.exists(os.path.join(PATH, OUTPUT_FILE))\n",
    "if FILE_EXIST:\n",
    "    os.remove(os.path.join(PATH, OUTPUT_FILE))\n",
    "\n",
    "with pd.ExcelWriter(os.path.join(PATH, OUTPUT_FILE)) as writer:\n",
    "    df1.to_excel(writer,sheet_name='MinorAADT')\n",
    "    df2.to_excel(writer, sheet_name='Outer')\n",
    "    df3.to_excel(writer, sheet_name='External')\n",
    "    df4.to_excel(writer, sheet_name='Inner')\n",
    "    df5.to_excel(writer, sheet_name='Central')"
   ]
  },
  {
   "cell_type": "code",
   "execution_count": null,
   "id": "98db60dc",
   "metadata": {},
   "outputs": [],
   "source": []
  }
 ],
 "metadata": {
  "kernelspec": {
   "display_name": "Python 3 (ipykernel)",
   "language": "python",
   "name": "python3"
  },
  "language_info": {
   "codemirror_mode": {
    "name": "ipython",
    "version": 3
   },
   "file_extension": ".py",
   "mimetype": "text/x-python",
   "name": "python",
   "nbconvert_exporter": "python",
   "pygments_lexer": "ipython3",
   "version": "3.9.12"
  }
 },
 "nbformat": 4,
 "nbformat_minor": 5
}
